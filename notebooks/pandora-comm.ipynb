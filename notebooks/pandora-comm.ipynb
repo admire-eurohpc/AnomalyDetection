{
 "cells": [
  {
   "cell_type": "code",
   "execution_count": 46,
   "metadata": {},
   "outputs": [],
   "source": [
    "import io\n",
    "import numpy as np\n",
    "import pprint\n",
    "import pycurl"
   ]
  },
  {
   "cell_type": "code",
   "execution_count": 19,
   "metadata": {},
   "outputs": [],
   "source": [
    "ip = 'frontend.hpc4ai.unito.it:4567'\n",
    "pandora_url = '/pandora_console'\n",
    "apipass = '12345678'\n",
    "user = 'stefaniak'\n",
    "password = 'simplepass'\n",
    "op = 'get'\n",
    "\n",
    "\n",
    "url = \"https://\" + ip  + pandora_url + \"/include/api.php\"\n",
    "\n",
    "url += \"?\"\n",
    "url += \"apipass=\" + apipass\n",
    "url += \"&user=\"  + user\n",
    "url += \"&pass=\" + password\n",
    "url += \"&op=\" + op\n",
    "\n",
    "get_url = url # save url with op=get for later\n",
    "\n",
    "op2 = 'all_agents'\n",
    "return_type = 'csv'\n",
    "url += \"&op2=\" + op2\n",
    "url += \"&return_type=\" + return_type"
   ]
  },
  {
   "cell_type": "code",
   "execution_count": 20,
   "metadata": {},
   "outputs": [
    {
     "name": "stdout",
     "output_type": "stream",
     "text": [
      "https://frontend.hpc4ai.unito.it:4567/pandora_console/include/api.php?apipass=12345678&user=stefaniak&pass=simplepass&op=get&op2=all_agents&return_type=csv\n"
     ]
    }
   ],
   "source": [
    "print(url)"
   ]
  },
  {
   "cell_type": "code",
   "execution_count": 21,
   "metadata": {},
   "outputs": [],
   "source": [
    "def url_out(url):\n",
    "    buf = io.BytesIO()\n",
    "\n",
    "    c = pycurl.Curl()\n",
    "    c.setopt(c.URL, url)\n",
    "    c.setopt(c.WRITEFUNCTION, buf.write)\n",
    "    c.perform()\n",
    "\n",
    "    output = buf.getvalue().decode('UTF-8')\n",
    "    buf.close()\n",
    "    \n",
    "    return output"
   ]
  },
  {
   "cell_type": "code",
   "execution_count": 22,
   "metadata": {},
   "outputs": [],
   "source": [
    "output = url_out(url)"
   ]
  },
  {
   "cell_type": "code",
   "execution_count": 23,
   "metadata": {},
   "outputs": [],
   "source": [
    "lines = output.split(\"\\n\")\n",
    "agents = []\n",
    "for line in lines:\n",
    "    if not line:\n",
    "        continue\n",
    "    \n",
    "    fields = line.split(\";\")\n",
    "    agent = {}\n",
    "    agent['id_agent'] = fields[0]\n",
    "    agent['name'] = fields[1]\n",
    "    agent['ip'] = fields[2]\n",
    "    agent['description'] = fields[3]\n",
    "    agent['os_name'] = fields[4]\n",
    "    agent['url_address'] = fields[5]\n",
    "\n",
    "    agents.append(agent)"
   ]
  },
  {
   "cell_type": "code",
   "execution_count": 24,
   "metadata": {},
   "outputs": [
    {
     "name": "stdout",
     "output_type": "stream",
     "text": [
      "[{'id_agent': '56', 'name': 'broadwell-000', 'ip': '192.168.100.155', 'description': 'Created by pandorafms.maas', 'os_name': 'Linux', 'url_address': ''}, {'id_agent': '57', 'name': 'broadwell-001', 'ip': '192.168.100.156', 'description': 'Created by pandorafms.maas', 'os_name': 'Linux', 'url_address': ''}, {'id_agent': '58', 'name': 'broadwell-002', 'ip': '192.168.100.22', 'description': 'Created by pandorafms.maas', 'os_name': 'Linux', 'url_address': ''}, {'id_agent': '59', 'name': 'broadwell-003', 'ip': '192.168.100.23', 'description': 'Created by pandorafms.maas', 'os_name': 'Linux', 'url_address': ''}, {'id_agent': '60', 'name': 'broadwell-004', 'ip': '192.168.100.24', 'description': 'Created by pandorafms.maas', 'os_name': 'Linux', 'url_address': ''}, {'id_agent': '61', 'name': 'broadwell-005', 'ip': '192.168.100.25', 'description': 'Created by pandorafms.maas', 'os_name': 'Linux', 'url_address': ''}, {'id_agent': '62', 'name': 'broadwell-006', 'ip': '192.168.100.26', 'description': 'Created by pandorafms.maas', 'os_name': 'Linux', 'url_address': ''}, {'id_agent': '63', 'name': 'broadwell-007', 'ip': '192.168.100.27', 'description': 'Created by pandorafms.maas', 'os_name': 'Linux', 'url_address': ''}, {'id_agent': '64', 'name': 'broadwell-008', 'ip': '192.168.100.28', 'description': 'Created by pandorafms.maas', 'os_name': 'Linux', 'url_address': ''}, {'id_agent': '65', 'name': 'broadwell-009', 'ip': '192.168.100.159', 'description': 'Created by pandorafms.maas', 'os_name': 'Linux', 'url_address': ''}, {'id_agent': '66', 'name': 'broadwell-010', 'ip': '192.168.100.29', 'description': 'Created by pandorafms.maas', 'os_name': 'Linux', 'url_address': ''}, {'id_agent': '67', 'name': 'broadwell-011', 'ip': '192.168.100.70', 'description': 'Created by pandorafms.maas', 'os_name': 'Linux', 'url_address': ''}, {'id_agent': '68', 'name': 'broadwell-012', 'ip': '192.168.100.138', 'description': 'Created by pandorafms.maas', 'os_name': 'Linux', 'url_address': ''}, {'id_agent': '69', 'name': 'broadwell-013', 'ip': '192.168.100.30', 'description': 'Created by pandorafms.maas', 'os_name': 'Linux', 'url_address': ''}, {'id_agent': '70', 'name': 'broadwell-014', 'ip': '192.168.100.31', 'description': 'Created by pandorafms.maas', 'os_name': 'Linux', 'url_address': ''}, {'id_agent': '71', 'name': 'broadwell-015', 'ip': '192.168.100.32', 'description': 'Created by pandorafms.maas', 'os_name': 'Linux', 'url_address': ''}, {'id_agent': '72', 'name': 'broadwell-016', 'ip': '192.168.100.33', 'description': 'Created by pandorafms.maas', 'os_name': 'Linux', 'url_address': ''}, {'id_agent': '73', 'name': 'broadwell-017', 'ip': '192.168.100.34', 'description': 'Created by pandorafms.maas', 'os_name': 'Linux', 'url_address': ''}, {'id_agent': '74', 'name': 'broadwell-018', 'ip': '192.168.100.35', 'description': 'Created by pandorafms.maas', 'os_name': 'Linux', 'url_address': ''}, {'id_agent': '75', 'name': 'broadwell-019', 'ip': '192.168.100.36', 'description': 'Created by pandorafms.maas', 'os_name': 'Linux', 'url_address': ''}, {'id_agent': '76', 'name': 'broadwell-020', 'ip': '192.168.100.37', 'description': 'Created by pandorafms.maas', 'os_name': 'Linux', 'url_address': ''}, {'id_agent': '77', 'name': 'broadwell-021', 'ip': '192.168.100.38', 'description': 'Created by pandorafms.maas', 'os_name': 'Linux', 'url_address': ''}, {'id_agent': '78', 'name': 'broadwell-022', 'ip': '192.168.100.39', 'description': 'Created by pandorafms.maas', 'os_name': 'Linux', 'url_address': ''}, {'id_agent': '79', 'name': 'broadwell-023', 'ip': '192.168.100.40', 'description': 'Created by pandorafms.maas', 'os_name': 'Linux', 'url_address': ''}, {'id_agent': '80', 'name': 'broadwell-024', 'ip': '192.168.100.41', 'description': 'Created by pandorafms.maas', 'os_name': 'Linux', 'url_address': ''}, {'id_agent': '81', 'name': 'broadwell-025', 'ip': '192.168.100.42', 'description': 'Created by pandorafms.maas', 'os_name': 'Linux', 'url_address': ''}, {'id_agent': '82', 'name': 'broadwell-026', 'ip': '192.168.100.52', 'description': 'Created by pandorafms.maas', 'os_name': 'Linux', 'url_address': ''}, {'id_agent': '83', 'name': 'broadwell-027', 'ip': '192.168.100.43', 'description': 'Created by pandorafms.maas', 'os_name': 'Linux', 'url_address': ''}, {'id_agent': '84', 'name': 'broadwell-028', 'ip': '192.168.100.44', 'description': 'Created by pandorafms.maas', 'os_name': 'Linux', 'url_address': ''}, {'id_agent': '85', 'name': 'broadwell-029', 'ip': '192.168.100.45', 'description': 'Created by pandorafms.maas', 'os_name': 'Linux', 'url_address': ''}, {'id_agent': '86', 'name': 'broadwell-030', 'ip': '192.168.100.46', 'description': 'Created by pandorafms.maas', 'os_name': 'Linux', 'url_address': ''}, {'id_agent': '87', 'name': 'broadwell-031', 'ip': '192.168.100.47', 'description': 'Created by pandorafms.maas', 'os_name': 'Linux', 'url_address': ''}, {'id_agent': '88', 'name': 'broadwell-032', 'ip': '192.168.100.48', 'description': 'Created by pandorafms.maas', 'os_name': 'Linux', 'url_address': ''}, {'id_agent': '89', 'name': 'broadwell-033', 'ip': '192.168.100.49', 'description': 'Created by pandorafms.maas', 'os_name': 'Linux', 'url_address': ''}, {'id_agent': '90', 'name': 'broadwell-034', 'ip': '192.168.100.50', 'description': 'Created by pandorafms.maas', 'os_name': 'Linux', 'url_address': ''}, {'id_agent': '91', 'name': 'broadwell-035', 'ip': '192.168.100.51', 'description': 'Created by pandorafms.maas', 'os_name': 'Linux', 'url_address': ''}, {'id_agent': '92', 'name': 'broadwell-036', 'ip': '192.168.100.60', 'description': 'Created by pandorafms.maas', 'os_name': 'Linux', 'url_address': ''}, {'id_agent': '93', 'name': 'broadwell-037', 'ip': '192.168.100.61', 'description': 'Created by pandorafms.maas', 'os_name': 'Linux', 'url_address': ''}, {'id_agent': '94', 'name': 'broadwell-038', 'ip': '192.168.100.62', 'description': 'Created by pandorafms.maas', 'os_name': 'Linux', 'url_address': ''}, {'id_agent': '95', 'name': 'broadwell-039', 'ip': '192.168.100.63', 'description': 'Created by pandorafms.maas', 'os_name': 'Linux', 'url_address': ''}, {'id_agent': '96', 'name': 'broadwell-040', 'ip': '192.168.100.64', 'description': 'Created by pandorafms.maas', 'os_name': 'Linux', 'url_address': ''}, {'id_agent': '97', 'name': 'broadwell-041', 'ip': '192.168.100.65', 'description': 'Created by pandorafms.maas', 'os_name': 'Linux', 'url_address': ''}, {'id_agent': '98', 'name': 'broadwell-042', 'ip': '192.168.100.66', 'description': 'Created by pandorafms.maas', 'os_name': 'Linux', 'url_address': ''}, {'id_agent': '99', 'name': 'broadwell-043', 'ip': '192.168.100.67', 'description': 'Created by pandorafms.maas', 'os_name': 'Linux', 'url_address': ''}, {'id_agent': '100', 'name': 'broadwell-044', 'ip': '192.168.100.68', 'description': 'Created by pandorafms.maas', 'os_name': 'Linux', 'url_address': ''}, {'id_agent': '101', 'name': 'broadwell-045', 'ip': '192.168.100.69', 'description': 'Created by pandorafms.maas', 'os_name': 'Linux', 'url_address': ''}, {'id_agent': '102', 'name': 'broadwell-046', 'ip': '192.168.100.158', 'description': 'Created by pandorafms.maas', 'os_name': 'Linux', 'url_address': ''}, {'id_agent': '103', 'name': 'broadwell-047', 'ip': '192.168.100.71', 'description': 'Created by pandorafms.maas', 'os_name': 'Linux', 'url_address': ''}, {'id_agent': '104', 'name': 'broadwell-048', 'ip': '192.168.100.72', 'description': 'Created by pandorafms.maas', 'os_name': 'Linux', 'url_address': ''}, {'id_agent': '105', 'name': 'broadwell-049', 'ip': '192.168.100.73', 'description': 'Created by pandorafms.maas', 'os_name': 'Linux', 'url_address': ''}, {'id_agent': '106', 'name': 'broadwell-050', 'ip': '192.168.100.74', 'description': 'Created by pandorafms.maas', 'os_name': 'Linux', 'url_address': ''}, {'id_agent': '107', 'name': 'broadwell-051', 'ip': '192.168.100.75', 'description': 'Created by pandorafms.maas', 'os_name': 'Linux', 'url_address': ''}, {'id_agent': '108', 'name': 'broadwell-052', 'ip': '192.168.100.76', 'description': 'Created by pandorafms.maas', 'os_name': 'Linux', 'url_address': ''}, {'id_agent': '109', 'name': 'broadwell-053', 'ip': '192.168.100.77', 'description': 'Created by pandorafms.maas', 'os_name': 'Linux', 'url_address': ''}, {'id_agent': '110', 'name': 'broadwell-054', 'ip': '192.168.100.78', 'description': 'Created by pandorafms.maas', 'os_name': 'Linux', 'url_address': ''}, {'id_agent': '111', 'name': 'broadwell-055', 'ip': '192.168.100.79', 'description': 'Created by pandorafms.maas', 'os_name': 'Linux', 'url_address': ''}, {'id_agent': '112', 'name': 'broadwell-056', 'ip': '192.168.100.255', 'description': 'Created by pandorafms.maas', 'os_name': 'Linux', 'url_address': ''}, {'id_agent': '113', 'name': 'broadwell-057', 'ip': '192.168.101.0', 'description': 'Created by pandorafms.maas', 'os_name': 'Linux', 'url_address': ''}, {'id_agent': '114', 'name': 'broadwell-058', 'ip': '192.168.101.1', 'description': 'Created by pandorafms.maas', 'os_name': 'Linux', 'url_address': ''}, {'id_agent': '115', 'name': 'broadwell-059', 'ip': '192.168.101.2', 'description': 'Created by pandorafms.maas', 'os_name': 'Linux', 'url_address': ''}, {'id_agent': '116', 'name': 'broadwell-060', 'ip': '192.168.101.3', 'description': 'Created by pandorafms.maas', 'os_name': 'Linux', 'url_address': ''}, {'id_agent': '117', 'name': 'broadwell-061', 'ip': '192.168.101.4', 'description': 'Created by pandorafms.maas', 'os_name': 'Linux', 'url_address': ''}, {'id_agent': '118', 'name': 'broadwell-062', 'ip': '192.168.101.5', 'description': 'Created by pandorafms.maas', 'os_name': 'Linux', 'url_address': ''}, {'id_agent': '119', 'name': 'broadwell-063', 'ip': '192.168.101.6', 'description': 'Created by pandorafms.maas', 'os_name': 'Linux', 'url_address': ''}, {'id_agent': '120', 'name': 'broadwell-064', 'ip': '192.168.101.7', 'description': 'Created by pandorafms.maas', 'os_name': 'Linux', 'url_address': ''}, {'id_agent': '121', 'name': 'broadwell-065', 'ip': '192.168.101.8', 'description': 'Created by pandorafms.maas', 'os_name': 'Linux', 'url_address': ''}, {'id_agent': '122', 'name': 'broadwell-066', 'ip': '192.168.101.9', 'description': 'Created by pandorafms.maas', 'os_name': 'Linux', 'url_address': ''}, {'id_agent': '123', 'name': 'broadwell-067', 'ip': '192.168.101.10', 'description': 'Created by pandorafms.maas', 'os_name': 'Linux', 'url_address': ''}]\n"
     ]
    }
   ],
   "source": [
    "print(agents)"
   ]
  },
  {
   "cell_type": "code",
   "execution_count": 28,
   "metadata": {},
   "outputs": [],
   "source": [
    "id_agent = '59'\n",
    "\n",
    "op2 = 'agent_modules'\n",
    "return_type = 'csv'\n",
    "other = id_agent\n",
    "other_mode = 'url_encode_separator_|'\n",
    "\n",
    "url = get_url\n",
    "url += \"&op2=\" + op2\n",
    "url += \"&return_type=\" + return_type\n",
    "url += \"&other=\" + other\n",
    "url += \"&other_mode=\" + other_mode\n",
    "\n",
    "output = url_out(url)"
   ]
  },
  {
   "cell_type": "code",
   "execution_count": 32,
   "metadata": {},
   "outputs": [],
   "source": [
    "modules = []\n",
    "for agent in agents:\n",
    "    op2 = 'agent_modules'\n",
    "    return_type = 'csv'\n",
    "    other = agent['id_agent']\n",
    "    other_mode = 'url_encode_separator_|'\n",
    "\n",
    "    url = get_url\n",
    "    url += \"&op2=\" + op2\n",
    "    url += \"&return_type=\" + return_type\n",
    "    url += \"&other=\" + other\n",
    "    url += \"&other_mode=\" + other_mode\n",
    "    \n",
    "    output = url_out(url)\n",
    "    \n",
    "    lines = output.split(\"\\n\")\n",
    "    for line in lines:\n",
    "        if not line:\n",
    "            continue\n",
    "    \n",
    "        fields = line.split(\";\")\n",
    "        module = {}\n",
    "        module['id_agent'] = fields[0]\n",
    "        module['id_module'] = fields[1]\n",
    "        module['name'] = fields[2]\n",
    "\n",
    "        modules.append(module)  "
   ]
  },
  {
   "cell_type": "code",
   "execution_count": 40,
   "metadata": {},
   "outputs": [],
   "source": [
    "op2 = 'module_data'\n",
    "id_module = modules[1]['id_module']\n",
    "\n",
    "\n",
    "url = get_url\n",
    "url += \"&op2=\" + op2\n",
    "url += \"&id=\" + id_module\n",
    "\n",
    "output = url_out(url)"
   ]
  },
  {
   "cell_type": "code",
   "execution_count": 53,
   "metadata": {},
   "outputs": [],
   "source": [
    "lines = output.split(\"\\n\")\n",
    "values = np.empty(len(lines), dtype = float)\n",
    "\n",
    "for i, line in enumerate(lines[1:]):\n",
    "    if not line:\n",
    "        continue\n",
    "    \n",
    "    fields = line.split(\";\")\n",
    "    values[i] = float(fields[1])\n"
   ]
  },
  {
   "cell_type": "code",
   "execution_count": 54,
   "metadata": {},
   "outputs": [
    {
     "data": {
      "text/plain": [
       "array([2.00000000e-002, 2.00000000e-002, 0.00000000e+000, ...,\n",
       "       0.00000000e+000, 6.91351208e-310, 6.91351208e-310])"
      ]
     },
     "execution_count": 54,
     "metadata": {},
     "output_type": "execute_result"
    }
   ],
   "source": [
    "values"
   ]
  }
 ],
 "metadata": {
  "kernelspec": {
   "display_name": "py-env",
   "language": "python",
   "name": "python3"
  },
  "language_info": {
   "codemirror_mode": {
    "name": "ipython",
    "version": 3
   },
   "file_extension": ".py",
   "mimetype": "text/x-python",
   "name": "python",
   "nbconvert_exporter": "python",
   "pygments_lexer": "ipython3",
   "version": "3.11.3"
  },
  "orig_nbformat": 4
 },
 "nbformat": 4,
 "nbformat_minor": 2
}
