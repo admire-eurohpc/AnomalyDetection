{
 "cells": [
  {
   "cell_type": "code",
   "execution_count": 18,
   "id": "8a630f60",
   "metadata": {},
   "outputs": [],
   "source": [
    "# !pip install pyarrow\n",
    "# !pip install fastparquet\n",
    "import sys\n",
    "import os\n",
    "import pandas as pd\n",
    "import seaborn as sns\n",
    "\n"
   ]
  },
  {
   "cell_type": "code",
   "execution_count": 4,
   "id": "610f6c7f",
   "metadata": {},
   "outputs": [
    {
     "name": "stdout",
     "output_type": "stream",
     "text": [
      "1\n",
      "2\n",
      "3\n",
      "4\n",
      "<class 'pandas.core.frame.DataFrame'>\n",
      "Index: 19740000 entries, fLQPCoYBZfb-6lJn8bNm to zZNJfYYBZfb-6lJnVlhu\n",
      "Data columns (total 12 columns):\n",
      " #   Column      Dtype \n",
      "---  ------      ----- \n",
      " 0   date        object\n",
      " 1   @timestamp  object\n",
      " 2   hostname    object\n",
      " 3   location    object\n",
      " 4   cpu1        int64 \n",
      " 5   cpu2        int64 \n",
      " 6   power       int64 \n",
      " 7   kiosk       int64 \n",
      " 8   rack        int64 \n",
      " 9   chassis     int64 \n",
      " 10  blade       int64 \n",
      " 11  cpus_alloc  int64 \n",
      "dtypes: int64(8), object(4)\n",
      "memory usage: 1.9+ GB\n",
      "None\n"
     ]
    }
   ],
   "source": [
    "df_all = pd.DataFrame()\n",
    "for i in range(1,5):\n",
    "    print(i)\n",
    "    df = pd.read_parquet(f'../data/temp_data{i}.parquet')\n",
    "    df_all = pd.concat([df_all,df], axis=0)\n",
    "\n",
    "print(df_all.info())"
   ]
  },
  {
   "cell_type": "code",
   "execution_count": 13,
   "id": "29dada69",
   "metadata": {},
   "outputs": [],
   "source": [
    "df = df_all.reset_index(drop=True)\n",
    "\n",
    "df = df.drop('@timestamp', axis=1)\n",
    "df['date'] = pd.to_datetime(df['date'])\n"
   ]
  },
  {
   "cell_type": "code",
   "execution_count": 15,
   "id": "c917c64f",
   "metadata": {},
   "outputs": [
    {
     "data": {
      "text/html": [
       "<div>\n",
       "<style scoped>\n",
       "    .dataframe tbody tr th:only-of-type {\n",
       "        vertical-align: middle;\n",
       "    }\n",
       "\n",
       "    .dataframe tbody tr th {\n",
       "        vertical-align: top;\n",
       "    }\n",
       "\n",
       "    .dataframe thead th {\n",
       "        text-align: right;\n",
       "    }\n",
       "</style>\n",
       "<table border=\"1\" class=\"dataframe\">\n",
       "  <thead>\n",
       "    <tr style=\"text-align: right;\">\n",
       "      <th></th>\n",
       "      <th>date</th>\n",
       "      <th>hostname</th>\n",
       "      <th>location</th>\n",
       "      <th>cpu1</th>\n",
       "      <th>cpu2</th>\n",
       "      <th>power</th>\n",
       "      <th>kiosk</th>\n",
       "      <th>rack</th>\n",
       "      <th>chassis</th>\n",
       "      <th>blade</th>\n",
       "      <th>cpus_alloc</th>\n",
       "    </tr>\n",
       "  </thead>\n",
       "  <tbody>\n",
       "    <tr>\n",
       "      <th>0</th>\n",
       "      <td>2023-02-01 00:01:01+01:00</td>\n",
       "      <td>e2120</td>\n",
       "      <td>k06r17c02b16</td>\n",
       "      <td>50</td>\n",
       "      <td>47</td>\n",
       "      <td>572</td>\n",
       "      <td>6</td>\n",
       "      <td>17</td>\n",
       "      <td>2</td>\n",
       "      <td>16</td>\n",
       "      <td>48</td>\n",
       "    </tr>\n",
       "    <tr>\n",
       "      <th>1</th>\n",
       "      <td>2023-02-01 00:01:01+01:00</td>\n",
       "      <td>e2109</td>\n",
       "      <td>k06r17c02b05</td>\n",
       "      <td>50</td>\n",
       "      <td>47</td>\n",
       "      <td>568</td>\n",
       "      <td>6</td>\n",
       "      <td>17</td>\n",
       "      <td>2</td>\n",
       "      <td>5</td>\n",
       "      <td>48</td>\n",
       "    </tr>\n",
       "    <tr>\n",
       "      <th>2</th>\n",
       "      <td>2023-02-01 00:01:01+01:00</td>\n",
       "      <td>e2207</td>\n",
       "      <td>k06r18c04b07</td>\n",
       "      <td>49</td>\n",
       "      <td>47</td>\n",
       "      <td>552</td>\n",
       "      <td>6</td>\n",
       "      <td>18</td>\n",
       "      <td>4</td>\n",
       "      <td>7</td>\n",
       "      <td>48</td>\n",
       "    </tr>\n",
       "    <tr>\n",
       "      <th>3</th>\n",
       "      <td>2023-02-01 00:01:01+01:00</td>\n",
       "      <td>e2147</td>\n",
       "      <td>k06r17c04b11</td>\n",
       "      <td>49</td>\n",
       "      <td>44</td>\n",
       "      <td>500</td>\n",
       "      <td>6</td>\n",
       "      <td>17</td>\n",
       "      <td>4</td>\n",
       "      <td>11</td>\n",
       "      <td>47</td>\n",
       "    </tr>\n",
       "    <tr>\n",
       "      <th>4</th>\n",
       "      <td>2023-02-01 00:01:01+01:00</td>\n",
       "      <td>e2396</td>\n",
       "      <td>k06r21c04b04</td>\n",
       "      <td>44</td>\n",
       "      <td>46</td>\n",
       "      <td>492</td>\n",
       "      <td>6</td>\n",
       "      <td>21</td>\n",
       "      <td>4</td>\n",
       "      <td>4</td>\n",
       "      <td>44</td>\n",
       "    </tr>\n",
       "  </tbody>\n",
       "</table>\n",
       "</div>"
      ],
      "text/plain": [
       "                       date hostname      location  cpu1  cpu2  power  kiosk  \\\n",
       "0 2023-02-01 00:01:01+01:00    e2120  k06r17c02b16    50    47    572      6   \n",
       "1 2023-02-01 00:01:01+01:00    e2109  k06r17c02b05    50    47    568      6   \n",
       "2 2023-02-01 00:01:01+01:00    e2207  k06r18c04b07    49    47    552      6   \n",
       "3 2023-02-01 00:01:01+01:00    e2147  k06r17c04b11    49    44    500      6   \n",
       "4 2023-02-01 00:01:01+01:00    e2396  k06r21c04b04    44    46    492      6   \n",
       "\n",
       "   rack  chassis  blade  cpus_alloc  \n",
       "0    17        2     16          48  \n",
       "1    17        2      5          48  \n",
       "2    18        4      7          48  \n",
       "3    17        4     11          47  \n",
       "4    21        4      4          44  "
      ]
     },
     "execution_count": 15,
     "metadata": {},
     "output_type": "execute_result"
    }
   ],
   "source": [
    "df.head()"
   ]
  },
  {
   "cell_type": "code",
   "execution_count": 16,
   "id": "0bb782a3",
   "metadata": {},
   "outputs": [
    {
     "data": {
      "text/html": [
       "<div>\n",
       "<style scoped>\n",
       "    .dataframe tbody tr th:only-of-type {\n",
       "        vertical-align: middle;\n",
       "    }\n",
       "\n",
       "    .dataframe tbody tr th {\n",
       "        vertical-align: top;\n",
       "    }\n",
       "\n",
       "    .dataframe thead th {\n",
       "        text-align: right;\n",
       "    }\n",
       "</style>\n",
       "<table border=\"1\" class=\"dataframe\">\n",
       "  <thead>\n",
       "    <tr style=\"text-align: right;\">\n",
       "      <th></th>\n",
       "      <th>cpu1</th>\n",
       "      <th>cpu2</th>\n",
       "      <th>power</th>\n",
       "      <th>kiosk</th>\n",
       "      <th>rack</th>\n",
       "      <th>chassis</th>\n",
       "      <th>blade</th>\n",
       "      <th>cpus_alloc</th>\n",
       "    </tr>\n",
       "  </thead>\n",
       "  <tbody>\n",
       "    <tr>\n",
       "      <th>count</th>\n",
       "      <td>1.974000e+07</td>\n",
       "      <td>1.974000e+07</td>\n",
       "      <td>1.974000e+07</td>\n",
       "      <td>19740000.0</td>\n",
       "      <td>1.974000e+07</td>\n",
       "      <td>1.974000e+07</td>\n",
       "      <td>1.974000e+07</td>\n",
       "      <td>1.974000e+07</td>\n",
       "    </tr>\n",
       "    <tr>\n",
       "      <th>mean</th>\n",
       "      <td>3.674643e+01</td>\n",
       "      <td>3.390597e+01</td>\n",
       "      <td>2.731155e+02</td>\n",
       "      <td>6.0</td>\n",
       "      <td>9.700036e+00</td>\n",
       "      <td>2.494868e+00</td>\n",
       "      <td>8.450577e+00</td>\n",
       "      <td>2.593011e+01</td>\n",
       "    </tr>\n",
       "    <tr>\n",
       "      <th>std</th>\n",
       "      <td>8.430784e+00</td>\n",
       "      <td>7.175370e+00</td>\n",
       "      <td>1.352134e+02</td>\n",
       "      <td>0.0</td>\n",
       "      <td>6.486196e+00</td>\n",
       "      <td>1.103700e+00</td>\n",
       "      <td>4.615870e+00</td>\n",
       "      <td>1.807504e+01</td>\n",
       "    </tr>\n",
       "    <tr>\n",
       "      <th>min</th>\n",
       "      <td>0.000000e+00</td>\n",
       "      <td>0.000000e+00</td>\n",
       "      <td>0.000000e+00</td>\n",
       "      <td>6.0</td>\n",
       "      <td>1.000000e+00</td>\n",
       "      <td>1.000000e+00</td>\n",
       "      <td>1.000000e+00</td>\n",
       "      <td>0.000000e+00</td>\n",
       "    </tr>\n",
       "    <tr>\n",
       "      <th>25%</th>\n",
       "      <td>2.900000e+01</td>\n",
       "      <td>2.800000e+01</td>\n",
       "      <td>1.440000e+02</td>\n",
       "      <td>6.0</td>\n",
       "      <td>4.000000e+00</td>\n",
       "      <td>2.000000e+00</td>\n",
       "      <td>4.000000e+00</td>\n",
       "      <td>8.000000e+00</td>\n",
       "    </tr>\n",
       "    <tr>\n",
       "      <th>50%</th>\n",
       "      <td>3.500000e+01</td>\n",
       "      <td>3.100000e+01</td>\n",
       "      <td>2.320000e+02</td>\n",
       "      <td>6.0</td>\n",
       "      <td>9.000000e+00</td>\n",
       "      <td>3.000000e+00</td>\n",
       "      <td>8.000000e+00</td>\n",
       "      <td>2.400000e+01</td>\n",
       "    </tr>\n",
       "    <tr>\n",
       "      <th>75%</th>\n",
       "      <td>4.500000e+01</td>\n",
       "      <td>4.100000e+01</td>\n",
       "      <td>3.640000e+02</td>\n",
       "      <td>6.0</td>\n",
       "      <td>1.500000e+01</td>\n",
       "      <td>3.000000e+00</td>\n",
       "      <td>1.200000e+01</td>\n",
       "      <td>4.800000e+01</td>\n",
       "    </tr>\n",
       "    <tr>\n",
       "      <th>max</th>\n",
       "      <td>7.800000e+01</td>\n",
       "      <td>5.800000e+01</td>\n",
       "      <td>6.400000e+02</td>\n",
       "      <td>6.0</td>\n",
       "      <td>2.100000e+01</td>\n",
       "      <td>4.000000e+00</td>\n",
       "      <td>1.600000e+01</td>\n",
       "      <td>4.800000e+01</td>\n",
       "    </tr>\n",
       "  </tbody>\n",
       "</table>\n",
       "</div>"
      ],
      "text/plain": [
       "               cpu1          cpu2         power       kiosk          rack  \\\n",
       "count  1.974000e+07  1.974000e+07  1.974000e+07  19740000.0  1.974000e+07   \n",
       "mean   3.674643e+01  3.390597e+01  2.731155e+02         6.0  9.700036e+00   \n",
       "std    8.430784e+00  7.175370e+00  1.352134e+02         0.0  6.486196e+00   \n",
       "min    0.000000e+00  0.000000e+00  0.000000e+00         6.0  1.000000e+00   \n",
       "25%    2.900000e+01  2.800000e+01  1.440000e+02         6.0  4.000000e+00   \n",
       "50%    3.500000e+01  3.100000e+01  2.320000e+02         6.0  9.000000e+00   \n",
       "75%    4.500000e+01  4.100000e+01  3.640000e+02         6.0  1.500000e+01   \n",
       "max    7.800000e+01  5.800000e+01  6.400000e+02         6.0  2.100000e+01   \n",
       "\n",
       "            chassis         blade    cpus_alloc  \n",
       "count  1.974000e+07  1.974000e+07  1.974000e+07  \n",
       "mean   2.494868e+00  8.450577e+00  2.593011e+01  \n",
       "std    1.103700e+00  4.615870e+00  1.807504e+01  \n",
       "min    1.000000e+00  1.000000e+00  0.000000e+00  \n",
       "25%    2.000000e+00  4.000000e+00  8.000000e+00  \n",
       "50%    3.000000e+00  8.000000e+00  2.400000e+01  \n",
       "75%    3.000000e+00  1.200000e+01  4.800000e+01  \n",
       "max    4.000000e+00  1.600000e+01  4.800000e+01  "
      ]
     },
     "execution_count": 16,
     "metadata": {},
     "output_type": "execute_result"
    }
   ],
   "source": [
    "df.describe()"
   ]
  },
  {
   "cell_type": "code",
   "execution_count": 19,
   "id": "00f5a8d7",
   "metadata": {},
   "outputs": [
    {
     "data": {
      "text/plain": [
       "<AxesSubplot:>"
      ]
     },
     "execution_count": 19,
     "metadata": {},
     "output_type": "execute_result"
    },
    {
     "data": {
      "image/png": "[encoded data removed]",
      "text/plain": [
       "<Figure size 432x288 with 2 Axes>"
      ]
     },
     "metadata": {
      "needs_background": "light"
     },
     "output_type": "display_data"
    }
   ],
   "source": [
    "sns.heatmap(df.corr().round(2), annot=True, cmap='flare')\n"
   ]
  },
  {
   "cell_type": "code",
   "execution_count": 28,
   "id": "95c70c42",
   "metadata": {},
   "outputs": [
    {
     "data": {
      "text/plain": [
       "<AxesSubplot:>"
      ]
     },
     "execution_count": 28,
     "metadata": {},
     "output_type": "execute_result"
    },
    {
     "data": {
      "image/png": "[encoded data removed]",
      "text/plain": [
       "<Figure size 432x288 with 1 Axes>"
      ]
     },
     "metadata": {
      "needs_background": "light"
     },
     "output_type": "display_data"
    }
   ],
   "source": [
    "df['power'].hist(bins=100)"
   ]
  },
  {
   "cell_type": "code",
   "execution_count": 31,
   "id": "f46575f6",
   "metadata": {},
   "outputs": [
    {
     "data": {
      "text/plain": [
       "140    1650305\n",
       "136     830997\n",
       "148     684766\n",
       "144     394315\n",
       "152      75544\n",
       "        ...   \n",
       "324          1\n",
       "360          1\n",
       "348          1\n",
       "344          1\n",
       "584          1\n",
       "Name: power, Length: 85, dtype: int64"
      ]
     },
     "execution_count": 31,
     "metadata": {},
     "output_type": "execute_result"
    },
    {
     "data": {
      "image/png": "[encoded data removed]",
      "text/plain": [
       "<Figure size 432x288 with 1 Axes>"
      ]
     },
     "metadata": {
      "needs_background": "light"
     },
     "output_type": "display_data"
    }
   ],
   "source": [
    "df_nocpu = df[df['cpus_alloc'] == 0]\n",
    "df_nocpu['power'].hist(bins=100)\n",
    "df_nocpu['power'].value_counts()"
   ]
  },
  {
   "cell_type": "code",
   "execution_count": 30,
   "id": "a752e64f",
   "metadata": {},
   "outputs": [
    {
     "data": {
      "text/plain": [
       "<AxesSubplot:>"
      ]
     },
     "execution_count": 30,
     "metadata": {},
     "output_type": "execute_result"
    },
    {
     "data": {
      "image/png": "[encoded data removed]",
      "text/plain": [
       "<Figure size 432x288 with 1 Axes>"
      ]
     },
     "metadata": {
      "needs_background": "light"
     },
     "output_type": "display_data"
    }
   ],
   "source": [
    "# df_nocpu = df_nocpu[df_nocpu['power'] > 300]\n",
    "\n",
    "# df_nocpu['power'].hist(bins=100)"
   ]
  },
  {
   "cell_type": "code",
   "execution_count": 34,
   "id": "771d9e93",
   "metadata": {},
   "outputs": [
    {
     "name": "stdout",
     "output_type": "stream",
     "text": [
      "['e1924' 'e1448' 'e1443' ... 'e1502' 'e1487' 'e1499']\n"
     ]
    }
   ],
   "source": [
    "print(df_nocpu['hostname'].unique())"
   ]
  },
  {
   "cell_type": "code",
   "execution_count": 41,
   "id": "1d51d944",
   "metadata": {},
   "outputs": [
    {
     "name": "stdout",
     "output_type": "stream",
     "text": [
      "e1999 196.7853982300885\n",
      "e1817 156.3126843657817\n",
      "e1456 161.80406001765226\n",
      "e2002 169.73529411764707\n",
      "e1451 186.07294011706438\n",
      "e1997 169.8605072463768\n",
      "e1998 164.8228176318064\n",
      "e1441 183.25610859728508\n",
      "e1993 173.86296462158532\n",
      "e2214 153.9330570608862\n",
      "e2154 151.12166172106825\n",
      "e2206 151.09585798816568\n",
      "e2204 151.00452488687782\n",
      "e1239 182.28731762065095\n",
      "e1245 163.60476190476192\n",
      "e2191 152.58536585365854\n",
      "e2338 152.52027972027972\n",
      "e1513 151.66961651917404\n",
      "e1676 189.4432466708941\n",
      "e1212 175.31214627775358\n",
      "e1152 173.73584905660377\n",
      "e1156 155.7989417989418\n",
      "e2282 150.9785575048733\n",
      "e2294 152.2716468590832\n",
      "e2305 152.1025897660453\n",
      "e2309 150.1080227416298\n",
      "e2362 152.96503496503496\n",
      "e2232 152.0978345536688\n",
      "e1938 153.5641891891892\n",
      "e1651 168.8362120309708\n",
      "e1653 160.5051094890511\n",
      "e1650 150.09822895745847\n",
      "e2198 152.58260019550343\n",
      "e1994 179.0570273911091\n",
      "e1935 182.89521165857045\n",
      "e1929 167.78309986443742\n",
      "e1996 174.01570438799075\n",
      "e1932 169.53398058252426\n",
      "e1931 168.86638194020745\n",
      "e2159 152.8969696969697\n",
      "e2157 150.0550847457627\n",
      "e2158 150.0319361277445\n",
      "e2233 150.77448071216617\n",
      "e2235 173.1834862385321\n",
      "e2349 152.34077079107504\n",
      "e2355 150.45186640471513\n",
      "e2357 152.47863247863248\n",
      "e2080 174.11794228356337\n",
      "e1723 153.8590909090909\n",
      "e1248 155.7098445595855\n",
      "e1433 180.57849196538936\n",
      "e1160 175.98625429553263\n",
      "e1169 169.7519116397621\n",
      "e1336 160.3155322862129\n",
      "e1418 174.5781584582441\n",
      "e1423 169.71358927483243\n",
      "e1410 174.90451686678102\n",
      "e1188 157.5325506937033\n",
      "e1412 178.38911564625852\n",
      "e2407 152.14085494043448\n",
      "e1936 172.95092415551306\n",
      "e2337 151.5970802919708\n",
      "e1107 195.0793650793651\n",
      "e2037 159.48195329087048\n",
      "e1374 175.51132686084142\n",
      "e1655 164.36607142857142\n",
      "e1168 153.01664145234494\n",
      "e1103 181.8181818181818\n",
      "e1604 166.35897435897436\n",
      "e1789 189.2304964539007\n",
      "e1247 208.21811785400175\n",
      "e1386 155.40191505033144\n",
      "e1232 177.86293706293705\n",
      "e1310 189.94701392007184\n",
      "e1307 151.34926052332196\n",
      "e1445 179.23429416112342\n",
      "e1196 170.33281004709576\n"
     ]
    }
   ],
   "source": [
    "for elem in df_nocpu['hostname'].unique():\n",
    "    if df_nocpu[df_nocpu['hostname'] == elem]['power'].mean() > 150:\n",
    "        print(elem, df_nocpu[df_nocpu['hostname'] == elem]['power'].mean())"
   ]
  },
  {
   "cell_type": "code",
   "execution_count": null,
   "id": "4058eef5",
   "metadata": {},
   "outputs": [],
   "source": []
  }
 ],
 "metadata": {
  "kernelspec": {
   "display_name": "Python 3 (ipykernel)",
   "language": "python",
   "name": "python3"
  },
  "language_info": {
   "codemirror_mode": {
    "name": "ipython",
    "version": 3
   },
   "file_extension": ".py",
   "mimetype": "text/x-python",
   "name": "python",
   "nbconvert_exporter": "python",
   "pygments_lexer": "ipython3",
   "version": "3.9.2"
  }
 },
 "nbformat": 4,
 "nbformat_minor": 5
}
