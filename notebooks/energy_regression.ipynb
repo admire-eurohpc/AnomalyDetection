{
 "cells": [
  {
   "cell_type": "code",
   "execution_count": 29,
   "metadata": {},
   "outputs": [
    {
     "data": {
      "text/plain": [
       "(5565, 8)"
      ]
     },
     "execution_count": 29,
     "metadata": {},
     "output_type": "execute_result"
    }
   ],
   "source": [
    "import pandas as pd\n",
    "# Import linear regression model from sklearn\n",
    "from sklearn.linear_model import LinearRegression\n",
    "# Import random forest model from sklearn\n",
    "from sklearn.ensemble import RandomForestRegressor\n",
    "# Import train_test_split from sklearn\n",
    "from sklearn.model_selection import train_test_split \n",
    "# Standard scaler\n",
    "from sklearn.preprocessing import StandardScaler \n",
    "\n",
    "# Load final data\n",
    "df = pd.read_csv('data/jobs_step_1_final.csv')\n",
    "\n",
    "x_cols = [\n",
    "    'priority',\n",
    "    'required-memory',\n",
    "    'required-CPUs',\n",
    "    'allocation_nodes',\n",
    "    'steps-time-elapsed',\n",
    "    \n",
    "    'tres-allocated-cpu',\n",
    "    'tres-allocated-mem',\n",
    "    'tres-allocated-node',\n",
    "]\n",
    "\n",
    "y_cols = [\n",
    "    'steps-tres-consumed-total-energy',\n",
    "    'steps-statistics-energy-consumed',\n",
    "]\n",
    "\n",
    "# # Apply standard scaler to X\n",
    "# scaler = StandardScaler()\n",
    "# X = scaler.fit_transform(df[x_cols])\n",
    "# Y = df[y_cols]\n",
    "\n",
    "X, Y = df[x_cols], df[y_cols]\n",
    "\n",
    "X_train, X_test, y_train, y_test = train_test_split(X, Y, test_size=0.2, random_state=42)\n",
    "X_train.shape"
   ]
  },
  {
   "cell_type": "code",
   "execution_count": 36,
   "metadata": {},
   "outputs": [
    {
     "name": "stdout",
     "output_type": "stream",
     "text": [
      "Scores for linear regression model\n",
      "Score for steps-tres-consumed-total-energy: 0.645098999915759\n",
      "Score for steps-statistics-energy-consumed: 0.8240805331228094\n"
     ]
    }
   ],
   "source": [
    "# Create linear regression model\n",
    "model = LinearRegression()\n",
    "model.fit(X_train, y_train[y_cols[0]])\n",
    "\n",
    "model1 = LinearRegression()\n",
    "model1.fit(X_train, y_train[y_cols[1]])\n",
    "\n",
    "# Print test score\n",
    "print('Scores for linear regression model')\n",
    "print(f'Score for {y_cols[0]}: {model.score(X_test, y_test[y_cols[0]])}')\n",
    "print(f'Score for {y_cols[1]}: {model1.score(X_test, y_test[y_cols[1]])}')"
   ]
  },
  {
   "cell_type": "code",
   "execution_count": 37,
   "metadata": {},
   "outputs": [
    {
     "name": "stdout",
     "output_type": "stream",
     "text": [
      "Scores for Random Forest Regression\n",
      "Score for steps-tres-consumed-total-energy: 0.7752491996343582\n",
      "Score for steps-statistics-energy-consumed: 0.8309842230521935\n"
     ]
    }
   ],
   "source": [
    "# Create random forest model\n",
    "model = RandomForestRegressor(n_estimators=10, max_depth=10, random_state=42)\n",
    "model1 = RandomForestRegressor(n_estimators=10, max_depth=10, random_state=42)\n",
    "\n",
    "# Fit \n",
    "model = model.fit(X_train, y_train[y_cols[0]])\n",
    "model1 = model1.fit(X_train, y_train[y_cols[1]])\n",
    "\n",
    "# Print test score\n",
    "print('Scores for Random Forest Regression')\n",
    "print(f'Score for {y_cols[0]}: {model.score(X_test, y_test[y_cols[0]])}')\n",
    "print(f'Score for {y_cols[1]}: {model1.score(X_test, y_test[y_cols[1]])}')"
   ]
  },
  {
   "cell_type": "code",
   "execution_count": null,
   "metadata": {},
   "outputs": [],
   "source": []
  }
 ],
 "metadata": {
  "kernelspec": {
   "display_name": "datascience",
   "language": "python",
   "name": "python3"
  },
  "language_info": {
   "codemirror_mode": {
    "name": "ipython",
    "version": 3
   },
   "file_extension": ".py",
   "mimetype": "text/x-python",
   "name": "python",
   "nbconvert_exporter": "python",
   "pygments_lexer": "ipython3",
   "version": "3.10.9"
  },
  "orig_nbformat": 4,
  "vscode": {
   "interpreter": {
    "hash": "0ea01751cc290926817fddb9e320ce41db87aaea9629e2eb3c78212f1fd8ef6f"
   }
  }
 },
 "nbformat": 4,
 "nbformat_minor": 2
}
