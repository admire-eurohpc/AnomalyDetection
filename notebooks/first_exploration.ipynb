{
 "cells": [
  {
   "cell_type": "code",
   "execution_count": 1,
   "metadata": {},
   "outputs": [
    {
     "name": "stdout",
     "output_type": "stream",
     "text": [
      "Raw json loaded. High-level keys: dict_keys(['meta', 'errors', 'jobs'])\n"
     ]
    }
   ],
   "source": [
    "import pandas as pd\n",
    "import numpy as np\n",
    "import seaborn as sns\n",
    "import matplotlib.pyplot as plt\n",
    "import json\n",
    "\n",
    "with open('jobs.json', 'r') as file:\n",
    "    raw_json = json.load(file)\n",
    "\n",
    "print(f'Raw json loaded. High-level keys: {raw_json.keys()}')"
   ]
  },
  {
   "cell_type": "code",
   "execution_count": 2,
   "metadata": {},
   "outputs": [
    {
     "name": "stdout",
     "output_type": "stream",
     "text": [
      "Jobs in file: 12824\n",
      "Each job is of length: 30\n"
     ]
    }
   ],
   "source": [
    "jobs = raw_json['jobs']\n",
    "print(f'Jobs in file: {len(jobs)}')\n",
    "print(f'Each job is of length: {len(jobs[0])}')"
   ]
  },
  {
   "cell_type": "code",
   "execution_count": 3,
   "metadata": {},
   "outputs": [
    {
     "data": {
      "text/html": [
       "<div>\n",
       "<style scoped>\n",
       "    .dataframe tbody tr th:only-of-type {\n",
       "        vertical-align: middle;\n",
       "    }\n",
       "\n",
       "    .dataframe tbody tr th {\n",
       "        vertical-align: top;\n",
       "    }\n",
       "\n",
       "    .dataframe thead th {\n",
       "        text-align: right;\n",
       "    }\n",
       "</style>\n",
       "<table border=\"1\" class=\"dataframe\">\n",
       "  <thead>\n",
       "    <tr style=\"text-align: right;\">\n",
       "      <th></th>\n",
       "      <th>account</th>\n",
       "      <th>comment</th>\n",
       "      <th>allocation_nodes</th>\n",
       "      <th>array</th>\n",
       "      <th>association</th>\n",
       "      <th>cluster</th>\n",
       "      <th>constraints</th>\n",
       "      <th>container</th>\n",
       "      <th>derived_exit_code</th>\n",
       "      <th>time</th>\n",
       "      <th>...</th>\n",
       "      <th>qos</th>\n",
       "      <th>required</th>\n",
       "      <th>kill_request_user</th>\n",
       "      <th>reservation</th>\n",
       "      <th>state</th>\n",
       "      <th>steps</th>\n",
       "      <th>tres</th>\n",
       "      <th>user</th>\n",
       "      <th>wckey</th>\n",
       "      <th>working_directory</th>\n",
       "    </tr>\n",
       "  </thead>\n",
       "  <tbody>\n",
       "    <tr>\n",
       "      <th>0</th>\n",
       "      <td>68</td>\n",
       "      <td>{'administrator': None, 'job': None, 'system':...</td>\n",
       "      <td>1</td>\n",
       "      <td>{'job_id': 0, 'limits': {'max': {'running': {'...</td>\n",
       "      <td>{'account': '68', 'cluster': 'eagle', 'partiti...</td>\n",
       "      <td>eagle</td>\n",
       "      <td>None</td>\n",
       "      <td>None</td>\n",
       "      <td>{'status': 'SUCCESS', 'return_code': 0}</td>\n",
       "      <td>{'elapsed': 9482, 'eligible': 1672509600, 'end...</td>\n",
       "      <td>...</td>\n",
       "      <td>normal</td>\n",
       "      <td>{'CPUs': 24, 'memory': 2048}</td>\n",
       "      <td>None</td>\n",
       "      <td>{'id': 0, 'name': 0}</td>\n",
       "      <td>{'current': 'COMPLETED', 'reason': 'BeginTime'}</td>\n",
       "      <td>[{'nodes': {'list': ['e1788'], 'count': 1, 'ra...</td>\n",
       "      <td>{'allocated': [{'type': 'cpu', 'name': None, '...</td>\n",
       "      <td>kulka</td>\n",
       "      <td>{'wckey': '', 'flags': []}</td>\n",
       "      <td>/mnt/storage_2/scratch/grant_68/kulka/test/dev...</td>\n",
       "    </tr>\n",
       "    <tr>\n",
       "      <th>1</th>\n",
       "      <td>68</td>\n",
       "      <td>{'administrator': None, 'job': None, 'system':...</td>\n",
       "      <td>1</td>\n",
       "      <td>{'job_id': 0, 'limits': {'max': {'running': {'...</td>\n",
       "      <td>{'account': '68', 'cluster': 'eagle', 'partiti...</td>\n",
       "      <td>eagle</td>\n",
       "      <td>None</td>\n",
       "      <td>None</td>\n",
       "      <td>{'status': 'SUCCESS', 'return_code': 0}</td>\n",
       "      <td>{'elapsed': 9932, 'eligible': 1672531200, 'end...</td>\n",
       "      <td>...</td>\n",
       "      <td>normal</td>\n",
       "      <td>{'CPUs': 24, 'memory': 2048}</td>\n",
       "      <td>None</td>\n",
       "      <td>{'id': 0, 'name': 0}</td>\n",
       "      <td>{'current': 'COMPLETED', 'reason': 'BeginTime'}</td>\n",
       "      <td>[{'nodes': {'list': ['e2281'], 'count': 1, 'ra...</td>\n",
       "      <td>{'allocated': [{'type': 'cpu', 'name': None, '...</td>\n",
       "      <td>kulka</td>\n",
       "      <td>{'wckey': '', 'flags': []}</td>\n",
       "      <td>/mnt/storage_2/scratch/grant_68/kulka/test/dev...</td>\n",
       "    </tr>\n",
       "    <tr>\n",
       "      <th>2</th>\n",
       "      <td>68</td>\n",
       "      <td>{'administrator': None, 'job': None, 'system':...</td>\n",
       "      <td>1</td>\n",
       "      <td>{'job_id': 0, 'limits': {'max': {'running': {'...</td>\n",
       "      <td>{'account': '68', 'cluster': 'eagle', 'partiti...</td>\n",
       "      <td>eagle</td>\n",
       "      <td>None</td>\n",
       "      <td>None</td>\n",
       "      <td>{'status': 'SUCCESS', 'return_code': 0}</td>\n",
       "      <td>{'elapsed': 10601, 'eligible': 1672552800, 'en...</td>\n",
       "      <td>...</td>\n",
       "      <td>normal</td>\n",
       "      <td>{'CPUs': 24, 'memory': 2048}</td>\n",
       "      <td>None</td>\n",
       "      <td>{'id': 0, 'name': 0}</td>\n",
       "      <td>{'current': 'COMPLETED', 'reason': 'BeginTime'}</td>\n",
       "      <td>[{'nodes': {'list': ['e1901'], 'count': 1, 'ra...</td>\n",
       "      <td>{'allocated': [{'type': 'cpu', 'name': None, '...</td>\n",
       "      <td>kulka</td>\n",
       "      <td>{'wckey': '', 'flags': []}</td>\n",
       "      <td>/mnt/storage_2/scratch/grant_68/kulka/test/dev...</td>\n",
       "    </tr>\n",
       "  </tbody>\n",
       "</table>\n",
       "<p>3 rows × 30 columns</p>\n",
       "</div>"
      ],
      "text/plain": [
       "  account                                            comment  \\\n",
       "0      68  {'administrator': None, 'job': None, 'system':...   \n",
       "1      68  {'administrator': None, 'job': None, 'system':...   \n",
       "2      68  {'administrator': None, 'job': None, 'system':...   \n",
       "\n",
       "   allocation_nodes                                              array  \\\n",
       "0                 1  {'job_id': 0, 'limits': {'max': {'running': {'...   \n",
       "1                 1  {'job_id': 0, 'limits': {'max': {'running': {'...   \n",
       "2                 1  {'job_id': 0, 'limits': {'max': {'running': {'...   \n",
       "\n",
       "                                         association cluster constraints  \\\n",
       "0  {'account': '68', 'cluster': 'eagle', 'partiti...   eagle        None   \n",
       "1  {'account': '68', 'cluster': 'eagle', 'partiti...   eagle        None   \n",
       "2  {'account': '68', 'cluster': 'eagle', 'partiti...   eagle        None   \n",
       "\n",
       "  container                        derived_exit_code  \\\n",
       "0      None  {'status': 'SUCCESS', 'return_code': 0}   \n",
       "1      None  {'status': 'SUCCESS', 'return_code': 0}   \n",
       "2      None  {'status': 'SUCCESS', 'return_code': 0}   \n",
       "\n",
       "                                                time  ...     qos  \\\n",
       "0  {'elapsed': 9482, 'eligible': 1672509600, 'end...  ...  normal   \n",
       "1  {'elapsed': 9932, 'eligible': 1672531200, 'end...  ...  normal   \n",
       "2  {'elapsed': 10601, 'eligible': 1672552800, 'en...  ...  normal   \n",
       "\n",
       "                       required kill_request_user           reservation  \\\n",
       "0  {'CPUs': 24, 'memory': 2048}              None  {'id': 0, 'name': 0}   \n",
       "1  {'CPUs': 24, 'memory': 2048}              None  {'id': 0, 'name': 0}   \n",
       "2  {'CPUs': 24, 'memory': 2048}              None  {'id': 0, 'name': 0}   \n",
       "\n",
       "                                             state  \\\n",
       "0  {'current': 'COMPLETED', 'reason': 'BeginTime'}   \n",
       "1  {'current': 'COMPLETED', 'reason': 'BeginTime'}   \n",
       "2  {'current': 'COMPLETED', 'reason': 'BeginTime'}   \n",
       "\n",
       "                                               steps  \\\n",
       "0  [{'nodes': {'list': ['e1788'], 'count': 1, 'ra...   \n",
       "1  [{'nodes': {'list': ['e2281'], 'count': 1, 'ra...   \n",
       "2  [{'nodes': {'list': ['e1901'], 'count': 1, 'ra...   \n",
       "\n",
       "                                                tres   user  \\\n",
       "0  {'allocated': [{'type': 'cpu', 'name': None, '...  kulka   \n",
       "1  {'allocated': [{'type': 'cpu', 'name': None, '...  kulka   \n",
       "2  {'allocated': [{'type': 'cpu', 'name': None, '...  kulka   \n",
       "\n",
       "                        wckey  \\\n",
       "0  {'wckey': '', 'flags': []}   \n",
       "1  {'wckey': '', 'flags': []}   \n",
       "2  {'wckey': '', 'flags': []}   \n",
       "\n",
       "                                   working_directory  \n",
       "0  /mnt/storage_2/scratch/grant_68/kulka/test/dev...  \n",
       "1  /mnt/storage_2/scratch/grant_68/kulka/test/dev...  \n",
       "2  /mnt/storage_2/scratch/grant_68/kulka/test/dev...  \n",
       "\n",
       "[3 rows x 30 columns]"
      ]
     },
     "execution_count": 3,
     "metadata": {},
     "output_type": "execute_result"
    }
   ],
   "source": [
    "jobs_df = pd.DataFrame(jobs)\n",
    "jobs_df.head(3)"
   ]
  },
  {
   "cell_type": "code",
   "execution_count": 4,
   "metadata": {},
   "outputs": [
    {
     "name": "stdout",
     "output_type": "stream",
     "text": [
      "Columns: ['account', 'comment', 'allocation_nodes', 'array', 'association', 'cluster', 'constraints', 'container', 'derived_exit_code', 'time', 'exit_code', 'flags', 'group', 'het', 'job_id', 'name', 'mcs', 'nodes', 'partition', 'priority', 'qos', 'required', 'kill_request_user', 'reservation', 'state', 'steps', 'tres', 'user', 'wckey', 'working_directory']\n"
     ]
    }
   ],
   "source": [
    "print(f'Columns: {jobs_df.columns.to_list()}')"
   ]
  },
  {
   "cell_type": "code",
   "execution_count": 375,
   "metadata": {},
   "outputs": [
    {
     "name": "stdout",
     "output_type": "stream",
     "text": [
      "Unique keys: 1\n",
      "defaultdict(<function <lambda> at 0x0000024D1127E950>, {1: 12823})\n"
     ]
    }
   ],
   "source": [
    "from collections import defaultdict\n",
    "dic = defaultdict(lambda: 0)\n",
    "for k in jobs_df['steps']:\n",
    "    if len(k) > 0:\n",
    "        dic[k[0]['tres']['allocated'][0]['id']] += 1\n",
    "    else:\n",
    "        #print(k)\n",
    "        continue\n",
    "print(f'Unique keys: {len(dic.keys())}')\n",
    "if len(dic) < 100:\n",
    "    print(dic)\n",
    "\n"
   ]
  },
  {
   "cell_type": "code",
   "execution_count": 377,
   "metadata": {},
   "outputs": [
    {
     "name": "stdout",
     "output_type": "stream",
     "text": [
      "dict_keys(['requested', 'consumed', 'allocated'])\n"
     ]
    }
   ],
   "source": [
    "col = 'steps'\n",
    "print(jobs_df[col][0][1]['tres'].keys())\n",
    "#print(jobs_df[col].value_counts())\n",
    "#jobs_df[col].keys()\n",
    "#['nodes', 'tres', 'time', 'exit_code', 'tasks', 'pid', 'CPU', 'kill_request_user', 'state', 'statistics', 'step', 'task']"
   ]
  },
  {
   "cell_type": "code",
   "execution_count": null,
   "metadata": {},
   "outputs": [],
   "source": [
    "none_columns = [\n",
    "    'comment', # All nested columns are None,\n",
    "    'constraints', # All values are None,\n",
    "    'container', # All values are None\n",
    "    ]\n",
    "\n",
    "redundant_info_columns = [\n",
    "    'derived_exit_code', # All nested values have one unique value status: SUCCESS, return_code: 0,\n",
    "    'het', # All nested cols are 0 or None\n",
    "    'mcs', # Nested column (only one: label) have ''\n",
    "]\n",
    "\n",
    "info_columns = [\n",
    "    'account', # Account ids [int, str]\n",
    "    'array', # Job id, limits and task_id. Most (95%) records are the same: job_id: 0, task: None, task_id: None, limits_max_running_tasks: 0\n",
    "    'association', # account, cluster, partition, user.\n",
    "    'group', # group name,\n",
    "    'name', # some string as job name\n",
    "]\n",
    "\n",
    "nested_columns = [\n",
    "    'time', # nested times. Probably important: elapsed, eligible, end, start, submission, limit. The rest features are always 0\n",
    "]\n",
    "\n",
    "continous_columns = [\n",
    "    'allocation_nodes', # Number of allocated nodes [int]\n",
    "]"
   ]
  },
  {
   "cell_type": "code",
   "execution_count": 25,
   "metadata": {},
   "outputs": [
    {
     "name": "stdout",
     "output_type": "stream",
     "text": [
      "Column Name :  comment\n"
     ]
    },
    {
     "data": {
      "text/html": [
       "<div>\n",
       "<style scoped>\n",
       "    .dataframe tbody tr th:only-of-type {\n",
       "        vertical-align: middle;\n",
       "    }\n",
       "\n",
       "    .dataframe tbody tr th {\n",
       "        vertical-align: top;\n",
       "    }\n",
       "\n",
       "    .dataframe thead th {\n",
       "        text-align: right;\n",
       "    }\n",
       "</style>\n",
       "<table border=\"1\" class=\"dataframe\">\n",
       "  <thead>\n",
       "    <tr style=\"text-align: right;\">\n",
       "      <th></th>\n",
       "      <th>administrator</th>\n",
       "      <th>job</th>\n",
       "      <th>system</th>\n",
       "    </tr>\n",
       "  </thead>\n",
       "  <tbody>\n",
       "    <tr>\n",
       "      <th>0</th>\n",
       "      <td>None</td>\n",
       "      <td>None</td>\n",
       "      <td>None</td>\n",
       "    </tr>\n",
       "    <tr>\n",
       "      <th>1</th>\n",
       "      <td>None</td>\n",
       "      <td>None</td>\n",
       "      <td>None</td>\n",
       "    </tr>\n",
       "    <tr>\n",
       "      <th>2</th>\n",
       "      <td>None</td>\n",
       "      <td>None</td>\n",
       "      <td>None</td>\n",
       "    </tr>\n",
       "    <tr>\n",
       "      <th>3</th>\n",
       "      <td>None</td>\n",
       "      <td>None</td>\n",
       "      <td>None</td>\n",
       "    </tr>\n",
       "    <tr>\n",
       "      <th>4</th>\n",
       "      <td>None</td>\n",
       "      <td>None</td>\n",
       "      <td>None</td>\n",
       "    </tr>\n",
       "    <tr>\n",
       "      <th>...</th>\n",
       "      <td>...</td>\n",
       "      <td>...</td>\n",
       "      <td>...</td>\n",
       "    </tr>\n",
       "    <tr>\n",
       "      <th>12819</th>\n",
       "      <td>None</td>\n",
       "      <td>None</td>\n",
       "      <td>None</td>\n",
       "    </tr>\n",
       "    <tr>\n",
       "      <th>12820</th>\n",
       "      <td>None</td>\n",
       "      <td>None</td>\n",
       "      <td>None</td>\n",
       "    </tr>\n",
       "    <tr>\n",
       "      <th>12821</th>\n",
       "      <td>None</td>\n",
       "      <td>None</td>\n",
       "      <td>None</td>\n",
       "    </tr>\n",
       "    <tr>\n",
       "      <th>12822</th>\n",
       "      <td>None</td>\n",
       "      <td>None</td>\n",
       "      <td>None</td>\n",
       "    </tr>\n",
       "    <tr>\n",
       "      <th>12823</th>\n",
       "      <td>None</td>\n",
       "      <td>None</td>\n",
       "      <td>None</td>\n",
       "    </tr>\n",
       "  </tbody>\n",
       "</table>\n",
       "<p>12824 rows × 3 columns</p>\n",
       "</div>"
      ],
      "text/plain": [
       "      administrator   job system\n",
       "0              None  None   None\n",
       "1              None  None   None\n",
       "2              None  None   None\n",
       "3              None  None   None\n",
       "4              None  None   None\n",
       "...             ...   ...    ...\n",
       "12819          None  None   None\n",
       "12820          None  None   None\n",
       "12821          None  None   None\n",
       "12822          None  None   None\n",
       "12823          None  None   None\n",
       "\n",
       "[12824 rows x 3 columns]"
      ]
     },
     "execution_count": 25,
     "metadata": {},
     "output_type": "execute_result"
    }
   ],
   "source": [
    "df = jobs_df.copy()\n",
    "#for (columnName, columnData) in df.iteritems():\n",
    "columnName = 'comment'\n",
    "columnData = df[columnName]\n",
    "print('Column Name : ', columnName)\n",
    "# print('Column Data : ', columnData)\n",
    "cd = columnData.apply(pd.Series)\n",
    "#columnData.columns = [columnName + '_' + colname for colname in columnData.columns]\n",
    "df = pd.concat([df, cd], axis=1)\n",
    "df[cd.columns]"
   ]
  },
  {
   "cell_type": "code",
   "execution_count": 395,
   "metadata": {},
   "outputs": [
    {
     "data": {
      "text/plain": [
       "1672509600"
      ]
     },
     "execution_count": 395,
     "metadata": {},
     "output_type": "execute_result"
    }
   ],
   "source": [
    "jobs_df['time'][0]['start']"
   ]
  },
  {
   "cell_type": "code",
   "execution_count": 389,
   "metadata": {},
   "outputs": [
    {
     "data": {
      "text/plain": [
       "datetime.datetime(2022, 12, 31, 18, 0, tzinfo=datetime.timezone.utc)"
      ]
     },
     "execution_count": 389,
     "metadata": {},
     "output_type": "execute_result"
    }
   ],
   "source": [
    "import datetime\n",
    "\n",
    "\n"
   ]
  },
  {
   "cell_type": "code",
   "execution_count": 396,
   "metadata": {},
   "outputs": [
    {
     "name": "stdout",
     "output_type": "stream",
     "text": [
      "1674832232\n",
      "1671961140\n",
      "2022-12-25 09:39:00+00:00\n",
      "2023-01-27 15:10:32+00:00\n"
     ]
    }
   ],
   "source": [
    "_max = 0\n",
    "_min = 2e20\n",
    "\n",
    "for t in jobs_df['time']:\n",
    "    _max = max(_max, t['start']) \n",
    "    _min = min(_min, t['start']) \n",
    "print(_max)\n",
    "print(_min)\n",
    "print(datetime.datetime.fromtimestamp(_min, datetime.timezone.utc))\n",
    "print(datetime.datetime.fromtimestamp(_max, datetime.timezone.utc))"
   ]
  },
  {
   "cell_type": "code",
   "execution_count": null,
   "metadata": {},
   "outputs": [],
   "source": []
  }
 ],
 "metadata": {
  "kernelspec": {
   "display_name": "datascience",
   "language": "python",
   "name": "python3"
  },
  "language_info": {
   "codemirror_mode": {
    "name": "ipython",
    "version": 3
   },
   "file_extension": ".py",
   "mimetype": "text/x-python",
   "name": "python",
   "nbconvert_exporter": "python",
   "pygments_lexer": "ipython3",
   "version": "3.10.9 | packaged by conda-forge | (main, Jan 11 2023, 15:15:40) [MSC v.1916 64 bit (AMD64)]"
  },
  "orig_nbformat": 4,
  "vscode": {
   "interpreter": {
    "hash": "0ea01751cc290926817fddb9e320ce41db87aaea9629e2eb3c78212f1fd8ef6f"
   }
  }
 },
 "nbformat": 4,
 "nbformat_minor": 2
}
